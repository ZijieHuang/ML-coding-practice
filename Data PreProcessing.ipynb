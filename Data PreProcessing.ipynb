{
 "cells": [
  {
   "cell_type": "code",
   "execution_count": 82,
   "metadata": {},
   "outputs": [],
   "source": [
    "import numpy as np # Mathematical Library\n",
    "import pandas as pd # Dataset manage library"
   ]
  },
  {
   "cell_type": "code",
   "execution_count": 83,
   "metadata": {},
   "outputs": [],
   "source": [
    "# import dataset\n",
    "#.CSV files store tabular data in plain text, like Excel\n",
    "dataset = pd.read_csv('datasets/Data.csv')\n",
    "# data.iloc[<row selection],<column selection>]\n",
    "X = dataset.iloc[ : , :-1].values #except last column of data frame\n",
    "Y = dataset.iloc[ : , 3].values # the 3rd column of data frame"
   ]
  },
  {
   "cell_type": "code",
   "execution_count": 84,
   "metadata": {},
   "outputs": [
    {
     "data": {
      "text/html": [
       "<div>\n",
       "<style scoped>\n",
       "    .dataframe tbody tr th:only-of-type {\n",
       "        vertical-align: middle;\n",
       "    }\n",
       "\n",
       "    .dataframe tbody tr th {\n",
       "        vertical-align: top;\n",
       "    }\n",
       "\n",
       "    .dataframe thead th {\n",
       "        text-align: right;\n",
       "    }\n",
       "</style>\n",
       "<table border=\"1\" class=\"dataframe\">\n",
       "  <thead>\n",
       "    <tr style=\"text-align: right;\">\n",
       "      <th></th>\n",
       "      <th>Country</th>\n",
       "      <th>Age</th>\n",
       "      <th>Salary</th>\n",
       "      <th>Purchased</th>\n",
       "    </tr>\n",
       "  </thead>\n",
       "  <tbody>\n",
       "    <tr>\n",
       "      <th>0</th>\n",
       "      <td>France</td>\n",
       "      <td>44.0</td>\n",
       "      <td>72000.0</td>\n",
       "      <td>No</td>\n",
       "    </tr>\n",
       "    <tr>\n",
       "      <th>1</th>\n",
       "      <td>Spain</td>\n",
       "      <td>27.0</td>\n",
       "      <td>48000.0</td>\n",
       "      <td>Yes</td>\n",
       "    </tr>\n",
       "    <tr>\n",
       "      <th>2</th>\n",
       "      <td>Germany</td>\n",
       "      <td>30.0</td>\n",
       "      <td>54000.0</td>\n",
       "      <td>No</td>\n",
       "    </tr>\n",
       "    <tr>\n",
       "      <th>3</th>\n",
       "      <td>Spain</td>\n",
       "      <td>38.0</td>\n",
       "      <td>61000.0</td>\n",
       "      <td>No</td>\n",
       "    </tr>\n",
       "    <tr>\n",
       "      <th>4</th>\n",
       "      <td>Germany</td>\n",
       "      <td>40.0</td>\n",
       "      <td>NaN</td>\n",
       "      <td>Yes</td>\n",
       "    </tr>\n",
       "    <tr>\n",
       "      <th>5</th>\n",
       "      <td>France</td>\n",
       "      <td>35.0</td>\n",
       "      <td>58000.0</td>\n",
       "      <td>Yes</td>\n",
       "    </tr>\n",
       "    <tr>\n",
       "      <th>6</th>\n",
       "      <td>Spain</td>\n",
       "      <td>NaN</td>\n",
       "      <td>52000.0</td>\n",
       "      <td>No</td>\n",
       "    </tr>\n",
       "    <tr>\n",
       "      <th>7</th>\n",
       "      <td>France</td>\n",
       "      <td>48.0</td>\n",
       "      <td>79000.0</td>\n",
       "      <td>Yes</td>\n",
       "    </tr>\n",
       "    <tr>\n",
       "      <th>8</th>\n",
       "      <td>Germany</td>\n",
       "      <td>50.0</td>\n",
       "      <td>83000.0</td>\n",
       "      <td>No</td>\n",
       "    </tr>\n",
       "    <tr>\n",
       "      <th>9</th>\n",
       "      <td>France</td>\n",
       "      <td>37.0</td>\n",
       "      <td>67000.0</td>\n",
       "      <td>Yes</td>\n",
       "    </tr>\n",
       "  </tbody>\n",
       "</table>\n",
       "</div>"
      ],
      "text/plain": [
       "   Country   Age   Salary Purchased\n",
       "0   France  44.0  72000.0        No\n",
       "1    Spain  27.0  48000.0       Yes\n",
       "2  Germany  30.0  54000.0        No\n",
       "3    Spain  38.0  61000.0        No\n",
       "4  Germany  40.0      NaN       Yes\n",
       "5   France  35.0  58000.0       Yes\n",
       "6    Spain   NaN  52000.0        No\n",
       "7   France  48.0  79000.0       Yes\n",
       "8  Germany  50.0  83000.0        No\n",
       "9   France  37.0  67000.0       Yes"
      ]
     },
     "execution_count": 84,
     "metadata": {},
     "output_type": "execute_result"
    }
   ],
   "source": [
    "dataset\n"
   ]
  },
  {
   "cell_type": "code",
   "execution_count": 85,
   "metadata": {},
   "outputs": [
    {
     "name": "stdout",
     "output_type": "stream",
     "text": [
      "[['France' 44.0 72000.0]\n",
      " ['Spain' 27.0 48000.0]\n",
      " ['Germany' 30.0 54000.0]\n",
      " ['Spain' 38.0 61000.0]\n",
      " ['Germany' 40.0 nan]\n",
      " ['France' 35.0 58000.0]\n",
      " ['Spain' nan 52000.0]\n",
      " ['France' 48.0 79000.0]\n",
      " ['Germany' 50.0 83000.0]\n",
      " ['France' 37.0 67000.0]]\n",
      "['No' 'Yes' 'No' 'No' 'Yes' 'Yes' 'No' 'Yes' 'No' 'Yes']\n"
     ]
    }
   ],
   "source": [
    "print(X)\n",
    "print(Y)"
   ]
  },
  {
   "cell_type": "code",
   "execution_count": 86,
   "metadata": {},
   "outputs": [],
   "source": [
    "#handling the missing data\n",
    "from sklearn.impute import SimpleImputer\n",
    "imputer = SimpleImputer(missing_values = np.nan , strategy = 'mean')\n",
    "# Replace the NaN data by the mean of column\n",
    "imputer = imputer.fit(X[:, 1:3])\n",
    "X[:, 1:3] = imputer.transform(X[:, 1:3])"
   ]
  },
  {
   "cell_type": "code",
   "execution_count": 88,
   "metadata": {},
   "outputs": [
    {
     "name": "stdout",
     "output_type": "stream",
     "text": [
      "[['France' 44.0 72000.0]\n",
      " ['Spain' 27.0 48000.0]\n",
      " ['Germany' 30.0 54000.0]\n",
      " ['Spain' 38.0 61000.0]\n",
      " ['Germany' 40.0 63777.77777777778]\n",
      " ['France' 35.0 58000.0]\n",
      " ['Spain' 38.77777777777778 52000.0]\n",
      " ['France' 48.0 79000.0]\n",
      " ['Germany' 50.0 83000.0]\n",
      " ['France' 37.0 67000.0]]\n"
     ]
    }
   ],
   "source": [
    "print(X)"
   ]
  },
  {
   "cell_type": "code",
   "execution_count": 89,
   "metadata": {},
   "outputs": [],
   "source": [
    "# Encoding categorical data\n",
    "'''\n",
    "Label Encoder class: \n",
    "convert categorical text data into model-understandable numerical data.\n",
    "'''\n",
    "from sklearn.preprocessing import LabelEncoder, OneHotEncoder\n",
    "# from sklearn.compose import ColumnTransformer\n",
    "labelencoder_X = LabelEncoder()\n",
    "X[ : , 0] = labelencoder_X.fit_transform(X[ : , 0]) # encoded a set of country names into numerical data"
   ]
  },
  {
   "cell_type": "code",
   "execution_count": 90,
   "metadata": {},
   "outputs": [
    {
     "name": "stdout",
     "output_type": "stream",
     "text": [
      "[[0 44.0 72000.0]\n",
      " [2 27.0 48000.0]\n",
      " [1 30.0 54000.0]\n",
      " [2 38.0 61000.0]\n",
      " [1 40.0 63777.77777777778]\n",
      " [0 35.0 58000.0]\n",
      " [2 38.77777777777778 52000.0]\n",
      " [0 48.0 79000.0]\n",
      " [1 50.0 83000.0]\n",
      " [0 37.0 67000.0]]\n"
     ]
    }
   ],
   "source": [
    "print(X)"
   ]
  },
  {
   "cell_type": "code",
   "execution_count": 91,
   "metadata": {},
   "outputs": [],
   "source": [
    "# onehotencoder = OneHotEncoder(categorical_features = [0])\n",
    "# X = onehotencoder.fit_transform(X).toarray()\n",
    "'''\n",
    "OneHotEncoder: \n",
    "in case of a column has data with some kind of order or hierarchy.\n",
    " splits the column into multiple columns. \n",
    " The numbers are replaced by 1s and 0s,\n",
    " depending on which column has what value. \n",
    "'''\n",
    "onehotencoder = OneHotEncoder(categories='auto')#Determine categories automatically from the training data\n",
    "X = onehotencoder.fit_transform(X)\n",
    "labelencoder_Y = LabelEncoder()\n",
    "Y =  labelencoder_Y.fit_transform(Y)"
   ]
  },
  {
   "cell_type": "code",
   "execution_count": 92,
   "metadata": {},
   "outputs": [
    {
     "name": "stdout",
     "output_type": "stream",
     "text": [
      "X:   (0, 0)\t1.0\n",
      "  (0, 10)\t1.0\n",
      "  (0, 20)\t1.0\n",
      "  (1, 2)\t1.0\n",
      "  (1, 3)\t1.0\n",
      "  (1, 13)\t1.0\n",
      "  (2, 1)\t1.0\n",
      "  (2, 4)\t1.0\n",
      "  (2, 15)\t1.0\n",
      "  (3, 2)\t1.0\n",
      "  (3, 7)\t1.0\n",
      "  (3, 17)\t1.0\n",
      "  (4, 1)\t1.0\n",
      "  (4, 9)\t1.0\n",
      "  (4, 18)\t1.0\n",
      "  (5, 0)\t1.0\n",
      "  (5, 5)\t1.0\n",
      "  (5, 16)\t1.0\n",
      "  (6, 2)\t1.0\n",
      "  (6, 8)\t1.0\n",
      "  (6, 14)\t1.0\n",
      "  (7, 0)\t1.0\n",
      "  (7, 11)\t1.0\n",
      "  (7, 21)\t1.0\n",
      "  (8, 1)\t1.0\n",
      "  (8, 12)\t1.0\n",
      "  (8, 22)\t1.0\n",
      "  (9, 0)\t1.0\n",
      "  (9, 6)\t1.0\n",
      "  (9, 19)\t1.0\n",
      "Y: [0 1 0 0 1 1 0 1 0 1]\n"
     ]
    }
   ],
   "source": [
    "print(\"X:\",X)\n",
    "print(\"Y:\",Y)"
   ]
  },
  {
   "cell_type": "code",
   "execution_count": 56,
   "metadata": {},
   "outputs": [],
   "source": [
    "# Splitting the datasets into training sets and Test sets\n",
    "# from sklearn.cross_validation import train_test_split\n",
    "from sklearn.model_selection import train_test_split\n",
    "X_train, X_test, Y_train, Y_test = train_test_split( X , Y , test_size = 0.2, random_state = 0)"
   ]
  },
  {
   "cell_type": "code",
   "execution_count": 57,
   "metadata": {},
   "outputs": [
    {
     "name": "stdout",
     "output_type": "stream",
     "text": [
      "X_train:   (0, 1)\t1.0\n",
      "  (0, 9)\t1.0\n",
      "  (0, 18)\t1.0\n",
      "  (1, 0)\t1.0\n",
      "  (1, 6)\t1.0\n",
      "  (1, 19)\t1.0\n",
      "  (2, 2)\t1.0\n",
      "  (2, 3)\t1.0\n",
      "  (2, 13)\t1.0\n",
      "  (3, 2)\t1.0\n",
      "  (3, 8)\t1.0\n",
      "  (3, 14)\t1.0\n",
      "  (4, 0)\t1.0\n",
      "  (4, 11)\t1.0\n",
      "  (4, 21)\t1.0\n",
      "  (5, 2)\t1.0\n",
      "  (5, 7)\t1.0\n",
      "  (5, 17)\t1.0\n",
      "  (6, 0)\t1.0\n",
      "  (6, 10)\t1.0\n",
      "  (6, 20)\t1.0\n",
      "  (7, 0)\t1.0\n",
      "  (7, 5)\t1.0\n",
      "  (7, 16)\t1.0\n",
      "X_test:   (0, 1)\t1.0\n",
      "  (0, 4)\t1.0\n",
      "  (0, 15)\t1.0\n",
      "  (1, 1)\t1.0\n",
      "  (1, 12)\t1.0\n",
      "  (1, 22)\t1.0\n",
      "Y_train: [1 1 1 0 1 0 0 1]\n",
      "Y_test: [0 0]\n"
     ]
    }
   ],
   "source": [
    "print(\"X_train:\",X_train)\n",
    "print(\"X_test:\",X_test)\n",
    "print(\"Y_train:\",Y_train)\n",
    "print(\"Y_test:\",Y_test)"
   ]
  },
  {
   "cell_type": "code",
   "execution_count": 39,
   "metadata": {},
   "outputs": [],
   "source": [
    "# Feature Scaling\n",
    "from sklearn.preprocessing import StandardScaler\n",
    "sc_X = StandardScaler(with_mean=False) \n",
    "X_train = sc_X.fit_transform(X_train)\n",
    "X_test = sc_X.fit_transform(X_test)"
   ]
  }
 ],
 "metadata": {
  "kernelspec": {
   "display_name": "Python 3",
   "language": "python",
   "name": "python3"
  },
  "language_info": {
   "codemirror_mode": {
    "name": "ipython",
    "version": 3
   },
   "file_extension": ".py",
   "mimetype": "text/x-python",
   "name": "python",
   "nbconvert_exporter": "python",
   "pygments_lexer": "ipython3",
   "version": "3.7.6"
  }
 },
 "nbformat": 4,
 "nbformat_minor": 4
}
